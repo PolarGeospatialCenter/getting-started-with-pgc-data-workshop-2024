{
 "cells": [
  {
   "cell_type": "markdown",
   "metadata": {
    "slideshow": {
     "slide_type": "slide"
    }
   },
   "source": [
    "# Gateway Lesson\n",
    "\n",
    "\n",
    "This is a PGC Data Workshop Gateway Lesson, which is your introduction to a foundational concept _coregistration_ and key skills to model a glacier elevation change. This lesson prepares you for topics such as analysis of DEM accuracy, differnecing, and DEM coregistration. So with that said:\n",
    "\n",
    "## Welcome to the Coregistration Exercise!\n",
    "\n",
    "<br>\n",
    "\n",
    "Lesson Developer: \n",
    "  * Ali Hossaini (hossa084@umn.edu)\n"
   ]
  },
  {
   "cell_type": "markdown",
   "metadata": {
    "slideshow": {
     "slide_type": "slide"
    }
   },
   "source": [
    "# DEM: Gridded Representations of Elevation\n",
    "\n",
    "Digital Elevation Models (DEMs) serve as numerical, gridded representations of elevation, deriving from diverse instruments (e.g., optical sensors, radar, lidar). They are acquired under varying conditions, including ground, airborne, and satellite platforms, and are processed using different techniques like photogrammetry and remote sensing.\n",
    "\n",
    "![\"DEM\"](An-example-of-a-Digital-Elevation-Model.png#center)\n",
    "> <span style=\"color:gray\">\n",
    "image source: Barcellos, Bruno & Giraldi, Gilson & Silva, Rodrigo & Apolinario Jr, Antonio L. & Rodrigues, Paulo. (2007). Surface Flow Animation in Digital Terrain Models. </span>\n"
   ]
  },
  {
   "cell_type": "markdown",
   "metadata": {
    "slideshow": {
     "slide_type": "slide"
    }
   },
   "source": [
    "While specific complexities may be tied to certain instruments and methods, common characteristics of DEMs include:\n",
    "\n",
    "- **Ground Sampling Distance (GSD):** The pixel size, or GSD, doesn't always reflect the actual spatial resolution of the observations.\n",
    "\n",
    "- **Georeferencing Challenges:** Georeferencing is prone to shifts, tilts, or deformations due to inherent instrument errors, noise, or associated processing schemes.\n",
    "\n",
    "- **Outlier Abundance:** DEMs often contain numerous outliers that are challenging to filter, stemming from diverse sources like photogrammetric errors and cloud interference.\n",
    "\n",
    "These factors contribute to the complexity of assessing the <b>accuracy</b> and <b>precision</b> of DEMs, a crucial step for any subsequent analysis.\n",
    "\n",
    "![\"DEM\"](800px-Grancanaria-meshlab-vs-meshmixer.png#center)\n",
    "> <span style=\"color:gray\">\n",
    "    image source: edutechwiki.unige.ch </span>\n",
    "\n"
   ]
  },
  {
   "cell_type": "markdown",
   "metadata": {
    "slideshow": {
     "slide_type": "slide"
    }
   },
   "source": [
    "## All DEMs have some horizontal and vertical geolocation error. \n",
    "\n",
    "The **spatial structure of DEMs** introduces complexity to the concepts of <b>accuracy</b> and <b>precision</b>. For example:\n",
    "\n",
    "Spatially structured systematic errors are often associated with the gridded nature of DEMs, leading to affine biases. Additionally, specific biases can exist at the pixel scale. Concerning random errors, there is a variability in error magnitude or heteroscedasticity across the DEM, and spatially structured error patterns are connected to spatial correlations.\n",
    "\n",
    "**DEM Accuracy (Systematic Error):** Describes the proximity of a Digital Elevation Model (DEM) to the accurate location of measured elevations on the Earth's surface.\n",
    "\n",
    "**DEM Precision (Random Error):** Represents the typical spread of measurement errors in a DEM, irrespective of any potential bias from accurate positioning.\n",
    "\n",
    "![\"DEM\"](Pattern_of_Errors.png#center)\n",
    ">[ <span style=\"color:gray\">\n",
    "    image source: Hugonnet et al. (2022) </span>](https://ieeexplore.ieee.org/document/9815885)"
   ]
  },
  {
   "cell_type": "markdown",
   "metadata": {
    "slideshow": {
     "slide_type": "slide"
    }
   },
   "source": [
    "**Optimizing DEM Accuracy in relation to other georeferenced data:**\n",
    "\n",
    "Shifts to the true positioning resulting from poor accuracy are common in elevation datasets and can be corrected effectively by performign a **DEM co-registration** with precise and accurate refrence elevation data that undergoes quality control. Quality-controlled DEMs, aligned to high-accuracy data, are also available, such as TanDEM-X global DEM (refer to [Rizzoli et al. (2017)](https://www.sciencedirect.com/science/article/pii/S092427161730093X?via%3Dihub)).\n",
    "\n",
    "These biases can be addressed using the techniques outlined in **Coregistration**.\n",
    "\n",
    "\n",
    "![\"DEM\"](Co1.jpg#center)\n",
    "![\"DEM\"](Co2.jpg#center)\n",
    "> [<span style=\"color:gray\">\n",
    "    image source: Nuth and Kääb (2011) </span> ](https://tc.copernicus.org/articles/5/271/2011/tc-5-271-2011.pdf)"
   ]
  },
  {
   "cell_type": "markdown",
   "metadata": {
    "slideshow": {
     "slide_type": "slide"
    }
   },
   "source": [
    "## Coregistration\n",
    "\n",
    "Coregistration aligns multiple datasets to a common reference, minimizing geometric differences. This involves adjusting the spatial parameters of one dataset to match those of another which: \n",
    "\n",
    "- may include transformations such as translation, rotation, scaling, and possibly more complex adjustments to account for distortions in the data.\n",
    "\n",
    "- is often necessary when merging elevation data from various sources, such as satellite imagery, aerial photographs, LiDAR, or other remote sensing technologies. \n",
    "\n",
    "- each dataset may have been acquired at different times, from different platforms, or using different sensors, resulting in variations in spatial orientation, scale, and geometry.\n"
   ]
  },
  {
   "cell_type": "markdown",
   "metadata": {
    "slideshow": {
     "slide_type": "slide"
    }
   },
   "source": [
    "## DEM Coregistration\n",
    "Coregistration between DEMs correspond to aligning the digital elevation models in three dimensions.\n",
    "\n",
    "Transformations that can be described by a 3-dimensional affine function are included in coregistration methods which include:\n",
    "\n",
    "- vertical and horizontal translations\n",
    "\n",
    "- rotations\n",
    "\n",
    "- scalings.\n"
   ]
  },
  {
   "cell_type": "markdown",
   "metadata": {
    "slideshow": {
     "slide_type": "slide"
    }
   },
   "source": [
    "## Today's Focus: Greenland's Glacial Topography\n",
    "\n",
    "Materials Required:\n",
    "\n",
    "Two Digital Elevation Models (DEMs) of Greenland (can be obtained from different sources, e.g., NASA DEMs, ArcticDEM, etc.)\n",
    "\n",
    "Jupyter Notebook with Python and relevant libraries (e.g., rasterio, geopandas, matplotlib)\n",
    "\n"
   ]
  },
  {
   "cell_type": "markdown",
   "metadata": {
    "slideshow": {
     "slide_type": "slide"
    }
   },
   "source": [
    "## Install/Import Libraries:\n",
    "\n",
    "Import necessary Python libraries for geospatial analysis by running the following cells (Shift+Enter).\n",
    "\n"
   ]
  },
  {
   "cell_type": "code",
   "execution_count": 3,
   "metadata": {
    "scrolled": true,
    "slideshow": {
     "slide_type": "-"
    }
   },
   "outputs": [],
   "source": [
    "import rasterio\n",
    "from rasterio.enums import Resampling\n",
    "import geopandas as gpd\n",
    "import folium\n",
    "import plotly.express as px"
   ]
  },
  {
   "cell_type": "markdown",
   "metadata": {
    "slideshow": {
     "slide_type": "slide"
    }
   },
   "source": [
    "# Load DEMs:\n",
    "\n",
    "Load the two DEMs of Greenland using rasterio.\n"
   ]
  },
  {
   "cell_type": "code",
   "execution_count": null,
   "metadata": {
    "slideshow": {
     "slide_type": "-"
    }
   },
   "outputs": [],
   "source": [
    "dem_path1 = 'DEM/dem1.tif'\n",
    "dem_path2 = 'DEM/reference_dem.tif'\n",
    "dem1 = rasterio.open(dem_path1)\n",
    "dem2 = rasterio.open(dem_path2)\n"
   ]
  },
  {
   "cell_type": "markdown",
   "metadata": {
    "slideshow": {
     "slide_type": "slide"
    }
   },
   "source": [
    "# Explore Initial Alignment:\n",
    "\n",
    "Display the two DEMs to observe the misalignment.\n",
    "\n"
   ]
  },
  {
   "cell_type": "code",
   "execution_count": null,
   "metadata": {
    "slideshow": {
     "slide_type": "-"
    }
   },
   "outputs": [],
   "source": [
    "def display_dem_on_map(dem, map_center):\n",
    "    m = folium.Map(location=map_center, zoom_start=6, control_scale=True)\n",
    "    folium.raster_layers.ImageOverlay(\n",
    "        image=dem.read(1),\n",
    "        bounds=[[dem.bounds.bottom, dem.bounds.left], [dem.bounds.top, dem.bounds.right]],\n",
    "        colormap='terrain',\n",
    "    ).add_to(m)\n",
    "    return m\n",
    "\n",
    "center_coord = [(dem1.bounds.bottom + dem1.bounds.top) / 2, (dem1.bounds.left + dem1.bounds.right) / 2]\n",
    "map_dem1 = display_dem_on_map(dem1, center_coord)\n",
    "map_dem2 = display_dem_on_map(dem2, center_coord)\n"
   ]
  },
  {
   "cell_type": "markdown",
   "metadata": {
    "slideshow": {
     "slide_type": "slide"
    }
   },
   "source": [
    "# Perform Coregistration:\n",
    "\n",
    "Coregister one DEM to the other using resampling and transformation.\n",
    "\n"
   ]
  },
  {
   "cell_type": "code",
   "execution_count": null,
   "metadata": {
    "slideshow": {
     "slide_type": "-"
    }
   },
   "outputs": [],
   "source": [
    "dem2_coregistered, transform = rasterio.warp.reproject(\n",
    "    source=rasterio.band(dem2, 1),\n",
    "    destination=rasterio.band(dem1, 1),\n",
    "    src_transform=dem2.transform,\n",
    "    src_crs=dem2.crs,\n",
    "    dst_transform=dem1.transform,\n",
    "    dst_crs=dem1.crs,\n",
    "    resampling=Resampling.bilinear\n",
    ")\n"
   ]
  },
  {
   "cell_type": "markdown",
   "metadata": {
    "slideshow": {
     "slide_type": "slide"
    }
   },
   "source": [
    "# Interactive  Coregistered DEM:\n",
    "\n",
    "Display the coregistered DEM.\n",
    "\n"
   ]
  },
  {
   "cell_type": "code",
   "execution_count": null,
   "metadata": {
    "slideshow": {
     "slide_type": "-"
    }
   },
   "outputs": [],
   "source": [
    "def display_coregistered_dem_on_map(coregistered_dem, transform, map_center):\n",
    "    m = folium.Map(location=map_center, zoom_start=6, control_scale=True)\n",
    "    bounds = rasterio.transform.array_bounds(coregistered_dem.shape[0], coregistered_dem.shape[1], transform)\n",
    "    folium.raster_layers.ImageOverlay(\n",
    "        image=coregistered_dem,\n",
    "        bounds=[[bounds[1], bounds[0]], [bounds[3], bounds[2]]],\n",
    "        colormap='terrain',\n",
    "    ).add_to(m)\n",
    "    return m\n",
    "\n",
    "map_coregistered_dem = display_coregistered_dem_on_map(dem2_coregistered, transform, center_coord)\n"
   ]
  },
  {
   "cell_type": "markdown",
   "metadata": {
    "slideshow": {
     "slide_type": "slide"
    }
   },
   "source": [
    "# Visualize with Plotly:\n",
    "\n",
    "Display the coregistered DEM."
   ]
  },
  {
   "cell_type": "code",
   "execution_count": null,
   "metadata": {
    "slideshow": {
     "slide_type": "-"
    }
   },
   "outputs": [],
   "source": [
    "def plot_dem_histogram(dem):\n",
    "    fig = px.histogram(dem.read(1).flatten(), nbins=50, title='Elevation Histogram')\n",
    "    fig.update_layout(xaxis_title='Elevation', yaxis_title='Frequency')\n",
    "    return fig\n",
    "\n",
    "histogram_plot = plot_dem_histogram(dem2_coregistered)\n"
   ]
  },
  {
   "cell_type": "markdown",
   "metadata": {
    "slideshow": {
     "slide_type": "slide"
    }
   },
   "source": [
    "# Save Coregistered DEM:\n",
    "\n",
    "Save the coregistered DEM for future use."
   ]
  },
  {
   "cell_type": "code",
   "execution_count": null,
   "metadata": {
    "slideshow": {
     "slide_type": "-"
    }
   },
   "outputs": [],
   "source": [
    "output_path = 'path/to/coregistered_dem.tif'\n",
    "with rasterio.open(output_path, 'w', driver='GTiff', height=dem1.shape[0], width=dem1.shape[1],\n",
    "                   count=1, dtype='float32', crs=dem1.crs, transform=transform) as dst:\n",
    "    dst.write(dem2_coregistered, 1)\n"
   ]
  },
  {
   "cell_type": "markdown",
   "metadata": {
    "slideshow": {
     "slide_type": "slide"
    }
   },
   "source": [
    "# Advanced Method:\n",
    "\n",
    "Using **geowombat** package to coregister DEMs:"
   ]
  },
  {
   "cell_type": "code",
   "execution_count": 4,
   "metadata": {},
   "outputs": [
    {
     "ename": "ModuleNotFoundError",
     "evalue": "No module named 'geowombat'",
     "output_type": "error",
     "traceback": [
      "\u001b[1;31m---------------------------------------------------------------------------\u001b[0m",
      "\u001b[1;31mModuleNotFoundError\u001b[0m                       Traceback (most recent call last)",
      "\u001b[1;32m~\\AppData\\Local\\Temp\\ipykernel_12492\\2684644230.py\u001b[0m in \u001b[0;36m<cell line: 1>\u001b[1;34m()\u001b[0m\n\u001b[1;32m----> 1\u001b[1;33m \u001b[1;32mimport\u001b[0m \u001b[0mgeowombat\u001b[0m \u001b[1;32mas\u001b[0m \u001b[0mgw\u001b[0m\u001b[1;33m\u001b[0m\u001b[1;33m\u001b[0m\u001b[0m\n\u001b[0m\u001b[0;32m      2\u001b[0m \u001b[1;32mimport\u001b[0m \u001b[0mmatplotlib\u001b[0m\u001b[1;33m.\u001b[0m\u001b[0mpyplot\u001b[0m \u001b[1;32mas\u001b[0m \u001b[0mplt\u001b[0m\u001b[1;33m\u001b[0m\u001b[1;33m\u001b[0m\u001b[0m\n\u001b[0;32m      3\u001b[0m \u001b[0mfig\u001b[0m\u001b[1;33m,\u001b[0m \u001b[0max\u001b[0m \u001b[1;33m=\u001b[0m \u001b[0mplt\u001b[0m\u001b[1;33m.\u001b[0m\u001b[0msubplots\u001b[0m\u001b[1;33m(\u001b[0m\u001b[0mdpi\u001b[0m\u001b[1;33m=\u001b[0m\u001b[1;36m200\u001b[0m\u001b[1;33m)\u001b[0m\u001b[1;33m\u001b[0m\u001b[1;33m\u001b[0m\u001b[0m\n\u001b[0;32m      4\u001b[0m \u001b[1;33m\u001b[0m\u001b[0m\n\u001b[0;32m      5\u001b[0m \u001b[1;33m\u001b[0m\u001b[0m\n",
      "\u001b[1;31mModuleNotFoundError\u001b[0m: No module named 'geowombat'"
     ]
    }
   ],
   "source": [
    "#import library\n",
    "import geowombat as gw\n",
    "import matplotlib.pyplot as plt\n",
    "fig, ax = plt.subplots(dpi=200)\n",
    "\n",
    "#load data\n",
    "Refernce_DEM = 'DEM/SETSM_s2s041_WV02_20150402_103001003E9F4300_103001004013BE00_2m_seg1_dem_10m_shade.tif'\n",
    "Target_DEM = 'DEM/TDX_Greenland_Iceland_Mosaic_3413_90m_Clip.tif'\n",
    "\n",
    "#coregister and visualize\n",
    "with gw.config.update(ref_image=Refernce_DEM):\n",
    "    with gw.open(Target_DEM, resampling=\"bilinear\", nodata=-9999) as src:\n",
    "        print(src)\n",
    "        ax.imshow(src.data[0])\n",
    "        "
   ]
  }
 ],
 "metadata": {
  "celltoolbar": "Slideshow",
  "kernelspec": {
   "display_name": "Python 3 (ipykernel)",
   "language": "python",
   "name": "python3"
  },
  "language_info": {
   "codemirror_mode": {
    "name": "ipython",
    "version": 3
   },
   "file_extension": ".py",
   "mimetype": "text/x-python",
   "name": "python",
   "nbconvert_exporter": "python",
   "pygments_lexer": "ipython3",
   "version": "3.9.18"
  },
  "rise": {
   "autolaunch": true,
   "overlay": "<div class='hciheader'></div><div class='hcifooter'></div>",
   "scroll": true
  },
  "varInspector": {
   "cols": {
    "lenName": 16,
    "lenType": 16,
    "lenVar": 40
   },
   "kernels_config": {
    "python": {
     "delete_cmd_postfix": "",
     "delete_cmd_prefix": "del ",
     "library": "var_list.py",
     "varRefreshCmd": "print(var_dic_list())"
    },
    "r": {
     "delete_cmd_postfix": ") ",
     "delete_cmd_prefix": "rm(",
     "library": "var_list.r",
     "varRefreshCmd": "cat(var_dic_list()) "
    }
   },
   "types_to_exclude": [
    "module",
    "function",
    "builtin_function_or_method",
    "instance",
    "_Feature"
   ],
   "window_display": false
  }
 },
 "nbformat": 4,
 "nbformat_minor": 4
}
